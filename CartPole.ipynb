{
 "cells": [
  {
   "cell_type": "code",
   "execution_count": 33,
   "metadata": {},
   "outputs": [],
   "source": [
    "import numpy as np\n",
    "import matplotlib.pyplot as plt\n",
    "from tqdm import tqdm\n",
    "import gym\n",
    "import torch\n",
    "import torch.nn as nn\n",
    "import torch.optim as optim\n",
    "from torch.utils.data import TensorDataset, DataLoader\n",
    "import torch.nn.functional as F\n",
    "from collections import deque\n",
    "import random\n",
    "import cv2\n",
    "\n",
    "torch.set_float32_matmul_precision('high')\n",
    "torch._dynamo.config.suppress_errors = True"
   ]
  },
  {
   "cell_type": "code",
   "execution_count": 19,
   "metadata": {},
   "outputs": [],
   "source": [
    "env = gym.make('CartPole-v1', render_mode='rgb_array')"
   ]
  },
  {
   "cell_type": "code",
   "execution_count": 20,
   "metadata": {},
   "outputs": [
    {
     "name": "stdout",
     "output_type": "stream",
     "text": [
      "(4,)\n"
     ]
    }
   ],
   "source": [
    "initial_state = env.reset()\n",
    "print(initial_state[0].shape)\n",
    "state_space_dim = initial_state[0].shape[0]\n",
    "action_space_dim = 2"
   ]
  },
  {
   "cell_type": "code",
   "execution_count": 21,
   "metadata": {},
   "outputs": [
    {
     "name": "stderr",
     "output_type": "stream",
     "text": [
      "/home/arnabdey/.local/lib/python3.8/site-packages/gym/utils/passive_env_checker.py:233: DeprecationWarning: `np.bool8` is a deprecated alias for `np.bool_`.  (Deprecated NumPy 1.24)\n",
      "  if not isinstance(terminated, (bool, np.bool8)):\n"
     ]
    }
   ],
   "source": [
    "s, r, done, info, _ = env.step(1)"
   ]
  },
  {
   "cell_type": "code",
   "execution_count": 22,
   "metadata": {},
   "outputs": [],
   "source": [
    "class Q_Network(nn.Module):\n",
    "    def __init__(self, input_dim, output_dim):\n",
    "        super(Q_Network, self).__init__()\n",
    "\n",
    "        self.input_dim = input_dim\n",
    "        self.output_dim = output_dim\n",
    "\n",
    "        self.fc = nn.Sequential(\n",
    "            nn.Linear(in_features=self.input_dim, out_features=32),\n",
    "            nn.GELU(),\n",
    "            nn.Linear(in_features=32, out_features=64),\n",
    "            nn.GELU(),\n",
    "            nn.Linear(in_features=64, out_features=64),\n",
    "            nn.GELU(),\n",
    "            nn.Linear(in_features=64, out_features=self.output_dim)\n",
    "        )\n",
    "    def forward(self, x):\n",
    "        return self.fc(x)"
   ]
  },
  {
   "cell_type": "code",
   "execution_count": 23,
   "metadata": {},
   "outputs": [],
   "source": [
    "model = Q_Network(input_dim=4, output_dim=2)\n",
    "model = torch.compile(model).to('cuda')\n",
    "\n",
    "optimiser = optim.AdamW(params=model.parameters(), lr=1e-4)\n",
    "criterion = nn.MSELoss()\n",
    "\n",
    "replay_buffer = deque(maxlen=100000)"
   ]
  },
  {
   "cell_type": "code",
   "execution_count": 24,
   "metadata": {},
   "outputs": [],
   "source": [
    "num_episodes = 1000\n",
    "epsilon = 1.0\n",
    "gamma = 0.95\n",
    "batch_size = 1024"
   ]
  },
  {
   "cell_type": "code",
   "execution_count": 25,
   "metadata": {},
   "outputs": [
    {
     "name": "stderr",
     "output_type": "stream",
     "text": [
      "  0%|          | 0/1000 [00:00<?, ?it/s]"
     ]
    },
    {
     "name": "stderr",
     "output_type": "stream",
     "text": [
      "100%|██████████| 1000/1000 [46:54<00:00,  2.81s/it] \n"
     ]
    }
   ],
   "source": [
    "Losses = []\n",
    "Cumulative_Rewards = []\n",
    "\n",
    "for episode in tqdm(range(num_episodes)):\n",
    "    episode_loss = 0.0\n",
    "    episode_reward = 0.0\n",
    "    s = torch.tensor(env.reset()[0], dtype=torch.float32, device='cuda')\n",
    "    \n",
    "    done = False\n",
    "    while not done:\n",
    "        prob = torch.rand((1,)).item()\n",
    "        if prob < epsilon:\n",
    "            a = env.action_space.sample()\n",
    "        else:\n",
    "            with torch.no_grad():\n",
    "                output = model(s.unsqueeze(0))\n",
    "                a = torch.argmax(output).item()\n",
    "        \n",
    "        s_next, reward, done, info, _ = env.step(a)\n",
    "        episode_reward += reward\n",
    "        s_next = torch.tensor(s_next, dtype=torch.float32, device='cuda')\n",
    "        reward = torch.tensor(reward, dtype=torch.float32, device='cuda')\n",
    "        experience = (s.cpu(), a, reward.cpu(), s_next.cpu(), done)\n",
    "        replay_buffer.append(experience)\n",
    "\n",
    "        if done:\n",
    "            y = reward\n",
    "        else:\n",
    "            with torch.no_grad():\n",
    "                value = torch.max(model(s_next.unsqueeze(0)))\n",
    "                y = reward + gamma * value\n",
    "        \n",
    "        if len(replay_buffer) >= batch_size:\n",
    "            batch = random.sample(replay_buffer, batch_size)\n",
    "            states, actions, rewards, next_states, dones = zip(*batch)\n",
    "            states = torch.stack(states).to('cuda')\n",
    "            actions = torch.tensor(actions, dtype=torch.long, device='cuda')\n",
    "            rewards = torch.stack(rewards).to('cuda')\n",
    "            next_states = torch.stack(next_states).to('cuda')\n",
    "            dones = torch.tensor(dones, dtype=torch.float32, device='cuda')\n",
    "\n",
    "            current_Q_vals = model(states).gather(1, actions.view(-1,1)).squeeze()\n",
    "            with torch.no_grad():\n",
    "                next_Q_vals = model(next_states).max(1)[0]\n",
    "                target_Q_vals = rewards + gamma * next_Q_vals * (1 - dones)\n",
    "            loss = criterion(current_Q_vals, target_Q_vals)\n",
    "            episode_loss += loss.item()\n",
    "            optimiser.zero_grad()\n",
    "            loss.backward()\n",
    "            optimiser.step()\n",
    "        s = s_next\n",
    "        episode_reward += reward.item()\n",
    "        \n",
    "    Losses.append(episode_loss)\n",
    "    Cumulative_Rewards.append(episode_reward)\n",
    "    epsilon = max(0.01, epsilon * 0.995)"
   ]
  },
  {
   "cell_type": "code",
   "execution_count": 26,
   "metadata": {},
   "outputs": [
    {
     "data": {
      "image/png": "[encoded data removed]",
      "text/plain": [
       "<Figure size 640x480 with 1 Axes>"
      ]
     },
     "metadata": {},
     "output_type": "display_data"
    }
   ],
   "source": [
    "plt.plot(Losses)\n",
    "plt.show()"
   ]
  },
  {
   "cell_type": "code",
   "execution_count": 27,
   "metadata": {},
   "outputs": [
    {
     "data": {
      "image/png": "[encoded data removed]",
      "text/plain": [
       "<Figure size 640x480 with 1 Axes>"
      ]
     },
     "metadata": {},
     "output_type": "display_data"
    }
   ],
   "source": [
    "plt.plot(Cumulative_Rewards)\n",
    "plt.show()"
   ]
  },
  {
   "cell_type": "markdown",
   "metadata": {},
   "source": [
    "# Testing"
   ]
  },
  {
   "cell_type": "code",
   "execution_count": null,
   "metadata": {},
   "outputs": [],
   "source": [
    "s = torch.tensor(env.reset()[0], dtype=torch.float32, device='cuda')\n",
    "done = False\n",
    "Images_List = [env.render()]\n",
    "while not done:\n",
    "    with torch.no_grad():\n",
    "        a = torch.argmax(model(s.squeeze(0))).item()\n",
    "        s, reward, done, info, _ = env.step(a)\n",
    "        Images_List.append(env.render())\n",
    "        s = torch.tensor(s, dtype=torch.float32, device='cuda')"
   ]
  },
  {
   "cell_type": "code",
   "execution_count": 29,
   "metadata": {},
   "outputs": [
    {
     "name": "stdout",
     "output_type": "stream",
     "text": [
      "22532\n"
     ]
    }
   ],
   "source": [
    "print(len(Images_List))"
   ]
  },
  {
   "cell_type": "code",
   "execution_count": 31,
   "metadata": {},
   "outputs": [],
   "source": [
    "def save_video_from_images(image_list, output_path, fps=30):\n",
    "    if not image_list:\n",
    "        raise ValueError(\"The image list is empty.\")\n",
    "\n",
    "    height, width, channels = image_list[0].shape\n",
    "    if channels not in [1, 3]:\n",
    "        raise ValueError(\"Images should have 1 or 3 channels (grayscale or RGB).\")\n",
    "\n",
    "    fourcc = cv2.VideoWriter_fourcc(*'mp4v')\n",
    "    video_writer = cv2.VideoWriter(output_path, fourcc, fps, (width, height))\n",
    "\n",
    "    for img in image_list:\n",
    "        if img.dtype != np.uint8:\n",
    "            img = np.clip(img * 255, 0, 255).astype(np.uint8)\n",
    "\n",
    "        if len(img.shape) == 2 or img.shape[2] == 1:\n",
    "            img = cv2.cvtColor(img, cv2.COLOR_GRAY2BGR)\n",
    "        \n",
    "        video_writer.write(img)\n",
    "\n",
    "    video_writer.release()\n",
    "    print(f\"Video saved at {output_path}\")\n"
   ]
  },
  {
   "cell_type": "code",
   "execution_count": 32,
   "metadata": {},
   "outputs": [
    {
     "name": "stdout",
     "output_type": "stream",
     "text": [
      "Video saved at /home/arnabdey/Placement_ML_projects/RL/play.mp4\n"
     ]
    }
   ],
   "source": [
    "output_path = \"/home/arnabdey/Placement_ML_projects/RL/play.mp4\"\n",
    "save_video_from_images(Images_List, output_path, fps=30)"
   ]
  },
  {
   "cell_type": "code",
   "execution_count": 30,
   "metadata": {},
   "outputs": [],
   "source": [
    "torch.save(model.state_dict(), \"/home/arnabdey/Placement_ML_projects/RL/CartPole_model.pth\")"
   ]
  }
 ],
 "metadata": {
  "kernelspec": {
   "display_name": "Python 3",
   "language": "python",
   "name": "python3"
  },
  "language_info": {
   "codemirror_mode": {
    "name": "ipython",
    "version": 3
   },
   "file_extension": ".py",
   "mimetype": "text/x-python",
   "name": "python",
   "nbconvert_exporter": "python",
   "pygments_lexer": "ipython3",
   "version": "3.8.10"
  }
 },
 "nbformat": 4,
 "nbformat_minor": 2
}
